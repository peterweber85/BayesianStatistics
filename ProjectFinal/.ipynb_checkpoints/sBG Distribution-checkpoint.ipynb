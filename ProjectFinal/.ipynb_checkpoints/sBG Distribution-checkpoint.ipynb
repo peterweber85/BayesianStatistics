{
 "cells": [
  {
   "cell_type": "code",
   "execution_count": 67,
   "metadata": {
    "collapsed": true
   },
   "outputs": [],
   "source": [
    "N = 1000\n",
    "\n",
    "survivors = c(1000, 869, 743, 653, 593, 551, 517, 491)\n",
    "survivors\n",
    "\n",
    "n_lost = function(data){\n",
    "    lost = 0\n",
    "    for(i in 1:(length(data)-1)){\n",
    "        lost = c(lost, data[i]-data[i+1])\n",
    "    }\n",
    "    return(lost)\n",
    "}\n",
    "\n",
    "died = n_lost(survivors)\n",
    "died\n",
    "\n",
    "alpha0  <- runif(N, 0.1, 1000)\n",
    "beta0 <- runif(N, 0.1, 1000)\n",
    "theta_prior <- rbeta(N, alpha0, beta0)\n",
    "#hist(theta_prior, nclass = 100)"
   ]
  },
  {
   "cell_type": "code",
   "execution_count": 74,
   "metadata": {
    "collapsed": true
   },
   "outputs": [],
   "source": [
    "P_of_T <- function(N, t, theta){theta*(1 - theta)^t}\n",
    "S_of_T <- function(N, t, theta){(1 - theta)^t}\n",
    "\n",
    "log_likelihood <- function(theta, N, t_max){\n",
    "    output <- (survivors[1] - sum(died))*log(S_of_T(N, t_max, theta))\n",
    "    for(i in 1:length(survivors)){\n",
    "        output = output + died[i] * log(P_of_T(N, i, theta))\n",
    "    }\n",
    "    return(output)\n",
    "}"
   ]
  },
  {
   "cell_type": "code",
   "execution_count": 75,
   "metadata": {
    "collapsed": false
   },
   "outputs": [],
   "source": [
    "max_theta <- which.max(log_likelihood(theta_prior, t_max = length(died)))\n",
    "t <- theta_prior[max_theta]"
   ]
  },
  {
   "cell_type": "markdown",
   "metadata": {},
   "source": [
    "### Implemet Eq. 5 and 6 from the paper"
   ]
  },
  {
   "cell_type": "code",
   "execution_count": 134,
   "metadata": {
    "collapsed": false
   },
   "outputs": [
    {
     "data": {
      "text/html": [
       "-1657.76722583357"
      ],
      "text/latex": [
       "-1657.76722583357"
      ],
      "text/markdown": [
       "-1657.76722583357"
      ],
      "text/plain": [
       "[1] -1657.767"
      ]
     },
     "metadata": {},
     "output_type": "display_data"
    }
   ],
   "source": [
    "log_P_beta <- function(alpha, beta, t)\n",
    "{\n",
    "    log(beta(alpha + 1, beta + t - 1)) - log(beta(alpha, beta))\n",
    "}\n",
    "\n",
    "log_S_beta <- function(alpha, beta, t)\n",
    "{\n",
    "    log(beta(alpha, beta + t)) - log(beta(alpha, beta))\n",
    "}\n",
    "\n",
    "log_likelihood_beta <- function(alpha, beta, t_max = 7)\n",
    "{\n",
    "    output = (survivors[1] - sum(died))*log_S_beta(alpha, beta, t_max)\n",
    "    for(i in 1:t_max){\n",
    "        output = output + died[i] * log_P_beta(alpha, beta, i)\n",
    "    }\n",
    "    return(output)\n",
    "}\n",
    "\n",
    "test <- log_likelihood_beta(0.668, 3.806, 7)\n",
    "max(test, na.rm = T)\n",
    "\n",
    "maximum <- which.max(test)\n"
   ]
  },
  {
   "cell_type": "code",
   "execution_count": 126,
   "metadata": {
    "collapsed": false
   },
   "outputs": [
    {
     "data": {
      "text/html": [
       "-1642.49239460658"
      ],
      "text/latex": [
       "-1642.49239460658"
      ],
      "text/markdown": [
       "-1642.49239460658"
      ],
      "text/plain": [
       "[1] -1642.492"
      ]
     },
     "metadata": {},
     "output_type": "display_data"
    }
   ],
   "source": [
    "a=seq(0.01, 5, by=0.01)\n",
    "b=seq(0.01, 5, by =0.01)\n",
    "test <- outer(a, b, FUN=log_likelihood_beta)\n",
    "\n",
    "row <- which(test == max(test), arr.ind = TRUE)[1]\n",
    "col <- which(test == max(test), arr.ind = TRUE)[2]\n",
    "\n",
    "test[row,col]"
   ]
  },
  {
   "cell_type": "markdown",
   "metadata": {},
   "source": [
    "### Recursive formulas implementation"
   ]
  },
  {
   "cell_type": "code",
   "execution_count": 136,
   "metadata": {
    "collapsed": true
   },
   "outputs": [],
   "source": [
    "P_recursive <- function(N, alpha, beta, t)\n",
    "{\n",
    "    len <- length(survivors[-1])\n",
    "    output <- array(dim=c(len,N))\n",
    "    output[1,] <- alpha/(alpha + beta)\n",
    "    \n",
    "    if(len > 1){\n",
    "        for(i in 2:len){\n",
    "            output[i,] <- (beta + i - 2)/(alpha + beta + t - 1)*output[i-1,]\n",
    "        }\n",
    "    }\n",
    "    output\n",
    "}\n",
    "\n",
    "S_recursive <- function(N,alpha, beta, t)\n",
    "{\n",
    "    len <- length(survivors[-1])\n",
    "    output <- array(dim=c(len,N))\n",
    "    output[1,] <- 1 - P_recursive(N, alpha, beta, 1)[1,]\n",
    "    \n",
    "    if(len > 1){\n",
    "        for(i in 2:len){\n",
    "            output[i,] <- output[i-1,] - P_recursive(N, alpha, beta, i)[i,]\n",
    "        }\n",
    "    }\n",
    "    output\n",
    "}\n",
    "\n",
    "log_likelihood_recursive <- function(alpha, beta, N = N, t_max=7)\n",
    "{\n",
    "    died = died[-1]\n",
    "    output = (survivors[1] - sum(died))*log(S_recursive(N, alpha, beta, t_max)[t_max,])\n",
    "    for(i in 1:t_max){\n",
    "        output = output + died[i] * log(P_recursive(N, alpha, beta, i)[i,])\n",
    "    }\n",
    "    return(output)\n",
    "}\n",
    "\n"
   ]
  },
  {
   "cell_type": "code",
   "execution_count": 147,
   "metadata": {
    "collapsed": false
   },
   "outputs": [
    {
     "data": {
      "text/html": [
       "-1734.16552996688"
      ],
      "text/latex": [
       "-1734.16552996688"
      ],
      "text/markdown": [
       "-1734.16552996688"
      ],
      "text/plain": [
       "[1] -1734.166"
      ]
     },
     "metadata": {},
     "output_type": "display_data"
    }
   ],
   "source": [
    "max(log_likelihood_recursive(alpha0, beta0, N, 8))"
   ]
  },
  {
   "cell_type": "code",
   "execution_count": 113,
   "metadata": {
    "collapsed": false
   },
   "outputs": [],
   "source": [
    "max_idx <- which.max(log_likelihood_recursive(N,alpha0, beta0, 7))"
   ]
  },
  {
   "cell_type": "code",
   "execution_count": 119,
   "metadata": {
    "collapsed": false
   },
   "outputs": [
    {
     "ename": "ERROR",
     "evalue": "Error in output[1, ] <- alpha/(alpha + beta): número de items para para sustituir no es un múltiplo de la longitud del reemplazo\n",
     "output_type": "error",
     "traceback": [
      "Error in output[1, ] <- alpha/(alpha + beta): número de items para para sustituir no es un múltiplo de la longitud del reemplazo\nTraceback:\n",
      "1. outer(a, b, FUN = log_likelihood_recursive)",
      "2. FUN(X, Y, ...)",
      "3. S_recursive(N, alpha, beta, t_max)   # at line 31 of file <text>",
      "4. P_recursive(N, alpha, beta, 1)   # at line 19 of file <text>"
     ]
    }
   ],
   "source": [
    "a=seq(0, 5, by=0.01)\n",
    "b=seq(0, 5, by =0.01)\n",
    "outer(a, b, FUN=log_likelihood_recursive)"
   ]
  },
  {
   "cell_type": "code",
   "execution_count": null,
   "metadata": {
    "collapsed": true
   },
   "outputs": [],
   "source": []
  },
  {
   "cell_type": "code",
   "execution_count": null,
   "metadata": {
    "collapsed": true
   },
   "outputs": [],
   "source": []
  },
  {
   "cell_type": "code",
   "execution_count": null,
   "metadata": {
    "collapsed": true
   },
   "outputs": [],
   "source": []
  },
  {
   "cell_type": "code",
   "execution_count": null,
   "metadata": {
    "collapsed": true
   },
   "outputs": [],
   "source": [
    "### JAGS copied from other notebook\n",
    "dataList = list(\n",
    "    'surv' = survivors, \n",
    "    'died' = died,\n",
    "    'n' = length(died))\n",
    "\n",
    "model.text <- \"model{\n",
    "\n",
    "  #  Likelihood\n",
    "  for(i in 1:n){\n",
    "    Y[i]   ~ dnorm(mu[i], pow(sd, -2))\n",
    "    mu[i] <- a + b*x[i]\n",
    "  }\n",
    "\n",
    "  # Prior \n",
    "    theta ~ dbeta(alpha, beta)\n",
    "    alpha ~ dunif(0, 1000) \n",
    "    beta ~ dunif(0, 1000)      \n",
    "}\""
   ]
  }
 ],
 "metadata": {
  "kernelspec": {
   "display_name": "R",
   "language": "R",
   "name": "ir"
  },
  "language_info": {
   "codemirror_mode": "r",
   "file_extension": ".r",
   "mimetype": "text/x-r-source",
   "name": "R",
   "pygments_lexer": "r",
   "version": "3.3.2"
  }
 },
 "nbformat": 4,
 "nbformat_minor": 2
}
