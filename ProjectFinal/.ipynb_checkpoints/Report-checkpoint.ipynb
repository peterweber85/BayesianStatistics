{
 "cells": [
  {
   "cell_type": "code",
   "execution_count": 2,
   "metadata": {
    "collapsed": true
   },
   "outputs": [],
   "source": [
    "#import theano\n",
    "#theano.test()"
   ]
  },
  {
   "cell_type": "markdown",
   "metadata": {},
   "source": [
    "## INTRO"
   ]
  },
  {
   "cell_type": "markdown",
   "metadata": {},
   "source": [
    "KEY WORDS : \n",
    "subscription-oriented business model, Customer-Base Analysis, Customer Life Time Value.\n",
    "\n",
    "\n",
    "\n",
    "\n",
    "\n",
    "In this project we want to perform an estimation of customer life-time value (LTV) as a case of a Customer-Base Analysis using what literature in this domain calls probabilisitc models (which is in reality no other thing that using Bayesian approach),using data from the company where we work .\n",
    "\n",
    "This work will be divided in the following parts: \n",
    "First discussion Customer-Basis Analysis and possibles scenearios and characterisation of our scenario, second description of the model(s) we will use (assumptions, ...), third discussion about implementation and finally presentation of results and comparison with observed past data and with regression (curve-fitting) model.\n",
    "\n",
    "We found that this would make a proper project for this \"Bayesian Statistics\" course, as it is in between a Data-oriented and an Application-oriented project type. \n"
   ]
  },
  {
   "cell_type": "markdown",
   "metadata": {},
   "source": [
    "## Customer Basis Analysis:\n",
    "\n",
    "Customer Basis Analysis is a concept that is being more and more critical as Companies have access (or generate) to more customer's transaction data (increase in complexity and volume). This avaibility of these datasets has lead to a general change to transaction based strategies to more customer-centric strategies. In other words, the first strategies lead typically to descriptive analysis (for example summary statistic like rates, average number of subscriptions ...), while the more customer-centric approach is more focused on analysis on activities that are more predictive, i.e. activities and facts that by past information (found in those databases) a forecast is made. This is why a Bayesian Probabilistic approach can be convenient.\n",
    "\n",
    "### Probabilistic models for Customer Basis Analysis:\n",
    "\n",
    "How can we model this analysis with Probabilistic Models ? As usual in this situations, problem will be modelled in a way that observed behaviour has underlying a random process, thus a past behaviour is not a true mirror of future actions. With this interpretation, the past, and the \"future\" are function of latent characteristics denoted by $\\theta$.\n",
    "\n",
    "While this approach may not be new (in other fields), the novelty resides in the fact that classically for Customer Basis Analysis, the approaches have been regression-like (which also happened in the company we work) and the use of probabilistic approaches is relativelly new.\n",
    "\n",
    "### Possible scenarios:\n",
    "\n",
    "Commonly in literature we will find the following classification for scenarios in Customer-Base Analysis :\n",
    "\n",
    "+ By Opportunities of Transactions:\n",
    "\n",
    "It can be discrete and continuous. \n",
    "\n",
    "+ By Relation with the Customer:\n",
    "\n",
    "The key distinction between contractual and noncontractual is that in contractual scenario, you observe when a customer leaves, while in a noncontractual scenario, customer departure is unobservable and therefore must be inferred. For example in a contractual scenario, a user might pay for a service only when needed, so that if during a long time this user didn't made any transaction either it should be considered that is not any more a client or it's just a hiatus, we don't know it directly. \n",
    "\n",
    "[figure of scenarios in paper Probability Models for Customer-Base Analysis]\n",
    "figure Examples for the different scenarios\n",
    "\n",
    "Correctly knowing in which scenario our problem is in matters, especially while selecting a model.\n",
    "\n",
    "The company in which we work, has a few subscription based websites, where users are subscrived in order to have access to its content and services. After each cycle (30 days) the user is autommatically rebilled and in order to drop out, the user should cancel. As a consequence this scenario corresponds to a contractual scenario where transactions are done periodically.\n",
    "\n",
    "In concrete we will work with data from a concrete product.\n",
    "\n",
    "### Our case : Model LTV prediction\n",
    "\n",
    "For the scope of this project, we will model a the Customer Life Time Value (or LTV) as a particular case of Customer Basis Analysis, using Bayesian Probabilistic model.\n",
    "\n",
    "In marketing, customer lifetime value (CLV or often CLTV), lifetime customer value (LCV), or life-time value (LTV) is a prediction of the net profit attributed to the entire future relationship with a customer. The prediction model can have varying levels of sophistication and accuracy, ranging from a crude heuristic to the use of complex predictive analytics techniques.\n",
    "\n",
    "For this we will first implement the proposed model for Customer Retention Prediction described in [put reference for the article of PETER S. FADER AND BRUCE G. S. HARDIE], on a dataset of one of the products of the company."
   ]
  },
  {
   "cell_type": "markdown",
   "metadata": {},
   "source": [
    "## Description of the Dataset:\n",
    "\n",
    "The data we will use, is data collected from observed users from July 2015 to July 2017. The data is composed of number of subscriptions (rebill 0) and its evolution to the 15th rebill cycle. \n",
    "\n",
    "[paste head of dataset]\n",
    "figure Observed customers for the first cycles\n",
    "\n",
    "[paste histogram]\n",
    "figure Data presented as histogram\n"
   ]
  },
  {
   "cell_type": "markdown",
   "metadata": {},
   "source": [
    "## The first model to try\n",
    "\n",
    "\"First\" we will use \n",
    "\n",
    "\n",
    "Prior :\n",
    "\n",
    "$$\n",
    "\\theta \\sim Beta(\\alpha,\\beta)\n",
    "$$\n",
    "\n",
    "Likelihood:\n",
    "\n",
    "Probability of duration fora given user: \n",
    "\n",
    "$$\n",
    "P(T=t | \\theta) = \\theta (1-\\theta)^{t-1}\n",
    "$$\n",
    "\n",
    "Probability of remaining for a given user:\n",
    "$$\n",
    "S(t | \\theta) = (1-\\theta)^t\n",
    "$$\n",
    "\n",
    "Likelihood, assuming independence on the different users :\n",
    "\n",
    "$$\n",
    "\\prod_{t=1}^{T_{max}}P(T=t | \\theta)^{n_t}S(t | \\theta)^{N-\\sum_{t=1}^{T_{max}}n_t}\n",
    "$$\n",
    "\n",
    "where :\n",
    "\n",
    "+ $n_t$ is the number of users that cancels on cycle $t$\n",
    "+ $N$ is the number of total subscriptions (i.e. users that made transaction rebill 0)\n",
    "+ $T_{max}$ is the maximum number of cycles\n",
    "\n",
    "\n",
    "**Jon: In the paper they don't state the posterior expression, they compute the posterior estimation of $\\alpha$ and $\\beta$ from MCMC simulation, i.e. we should use JAGS or STAN to do a MCMC to find $\\alpha$ and $\\beta$ because we don't know the posterior expression ... **\n"
   ]
  },
  {
   "cell_type": "markdown",
   "metadata": {},
   "source": [
    "## Derivations\n",
    "\n",
    "The expressions of the probabilities can be expressed in terms of $\\alpha$ and $\\beta$ which reduces the problem to estimate those parameters. \n",
    "\n",
    "[here addapt appendix 1 of paper]\n"
   ]
  },
  {
   "cell_type": "markdown",
   "metadata": {},
   "source": [
    "## MCMC implementation"
   ]
  },
  {
   "cell_type": "markdown",
   "metadata": {},
   "source": [
    "## Simulated LTV VS Observed LTV"
   ]
  },
  {
   "cell_type": "markdown",
   "metadata": {},
   "source": [
    "## Conclusions and future work\n",
    "\n",
    "Drawbacks : \n",
    "\n",
    "+ This model assumes that the probability of cancel is constant after each cycle which may not be the case for certain products in wich factors like \"boredom\" has hight impact.\n",
    "\n",
    "Future Work:\n",
    "\n",
    "+ Characterize the cancellation probability as cycle dependant. A possible approach to explore is the use of states for each rebill cycle, with different transition probabilites each state (use of Hidden Markov Chains maybe).\n"
   ]
  },
  {
   "cell_type": "code",
   "execution_count": null,
   "metadata": {
    "collapsed": true
   },
   "outputs": [],
   "source": []
  }
 ],
 "metadata": {
  "kernelspec": {
   "display_name": "Python 2",
   "language": "python",
   "name": "python2"
  },
  "language_info": {
   "codemirror_mode": {
    "name": "ipython",
    "version": 2
   },
   "file_extension": ".py",
   "mimetype": "text/x-python",
   "name": "python",
   "nbconvert_exporter": "python",
   "pygments_lexer": "ipython2",
   "version": "2.7.13"
  }
 },
 "nbformat": 4,
 "nbformat_minor": 2
}
