{
 "cells": [
  {
   "cell_type": "markdown",
   "metadata": {},
   "source": [
    "# Homework - 01\n",
    "## Juan Borrego, Carla Diví and Peter Weber\n",
    "Josep Fortiana\n",
    "\n",
    "Facultat de Matemàtiques i Informàtica, UB\n",
    "\n",
    "2017-10-16\n",
    "\n",
    "Instructions: Completed assignments are due on Monday, October 30. They are to be uploaded to\n",
    "the Virtual Campus.\n",
    "\n",
    "Solutions can be submitted by groups of two or three students. In this case only one copy of each\n",
    "group’s work should be uploaded (by any member), clearly stating the names of all contributors.\n",
    "Format: Exercises 2 and 3 should be submitted either as a pair (text document + code) or as a Jupyter\n",
    "notebook. Exercise 1 just as a document or notebook. Documents should be .pdf files [never as\n",
    ".doc/.docx/.odt]. Code as ASCII .r text files. When more than one file has to be entered, prepare\n",
    "a single compressed file.\n",
    "\n",
    "## Exercise 1. \n",
    "\n",
    "Consider the following experiment:\n",
    "1. We toss n fair coins. We know the number X1 of heads is a binomial r.v. ∼ B(n, 1/2).\n",
    "2. We toss again the remaining R1 = n − X1 coins and denote by X2 the number of heads obtained this second time.\n",
    "3. We toss again the remaining R2 = n − X1 − X2 coins and denote by X3 the number of heads obtained this second time.\n",
    "4. The process continues in the same manner, stopping when all n coins show heads.2. For k ≥ 2, generalize the above computations as far as you can. Meaning: some extensions are feasible, even easy, but others give unwieldy expressions as far as I know. Hence start with k = 3, observe what you get and follow any practicable way you find. Do not worry if none appears.\n",
    "3. Define the r.v. \n",
    "Y = “Total number of tosses. ”\n",
    "Obtain the cdf of Y \n",
    "\n"
   ]
  },
  {
   "cell_type": "markdown",
   "metadata": {},
   "source": [
    "### 1.1 Find the pmf of X2 conditional to a given value of X1, the joint pmf of (X1, X2), the joint pmf of (X1, X2, R2), the marginal pmf of X2 and the marginal pmf of R2."
   ]
  },
  {
   "cell_type": "markdown",
   "metadata": {},
   "source": [
    "#### Pmf of $X_2$ given $X_1$\n",
    "\n",
    "Pmf of $X_2$ given $X_1$:\n",
    "\n",
    "$$ P(X_2=x_2 | X_1=x_1) = \\binom{n-x_1}{x_2} \\frac{1}{2^{n-x_1}} $$ \n",
    "\n",
    "for $x_1 \\in \\{0,...,n\\}$, $0$ otherwise.\n",
    "\n",
    "#### Joint pmf of $(X_1,  X_2)$\n",
    "\n",
    "Pmf of $X_1$:  $ P(X_1=x_1) = \\binom{n}{k} p^k p^{n-k} = \\binom{n}{x_1} \\frac{1}{2^{n}} $ for $x_1 \\in \\{0,...,n\\}$, $0$ otherwise.\n",
    "\n",
    "Joint pmf of  $(X_1,  X_2)$:\n",
    "\n",
    "$$ P(X_1=x_1 , X_2=x_2, R_2=r_2) = P(X_2=x_2 | X_1=x_1) P(X_1=x_1) = \\binom{n-x_1}{x_2} \\frac{1}{2^{n-x_1}} \\binom{n}{x_1} \\frac{1}{2^{n}} = \\binom{n-x_1}{x_2} \\binom{n}{x_1} \\frac{1}{2^{2n-x_1}}$$\n",
    "\n",
    "for $x_1 \\in \\{0,...,n\\}$, $x_2 \\in \\{0,...,n-x_1\\}$, $0$ otherwise.\n",
    "\n",
    "#### Joint pmf of $(X_1,  X_2, R_2)$\n",
    "\n",
    "$ R_2 = n - X_1 - X_2$, so the conditional probability of $R_2$, knowing $X_1$ and $X_2$ is: $P(R_2=r_2|X_1=x_1,X_2=x_2) = 1 $\n",
    "\n",
    "Joint pmf of $(X_1,  X_2, R_2)$:\n",
    "\n",
    "$$ P(X_1=x_1 , X_2=x_2, R_2=r_2) = P(R_2=r_2 | X_1=x_1 , X_2=x_2)P(X_2=x_2, X_1=x_1) = \\binom{n-x_1}{x_2} \\binom{n}{x_1} \\frac{1}{2^{2n-x_1}}$$\n",
    "\n",
    "for $x_1 \\in \\{0,...,n\\}$, $x_2 \\in \\{0,...,n-x_1\\}$ and $r_2 = n-x_1-x_2$, $0$ otherwise.\n",
    "\n",
    "#### Marginal pmf of $X_2$\n",
    "Joint pmf of  $(R_1,  X_2)$: $P(R_1 = r_1 , X_2 = x_2) = P(X_2 = x_2 | R_1 = r_1) P(R_1 = r_1) = \\binom{r_1}{x_2} \\frac{1}{2^{r_1}} \\binom{n}{r_1} \\frac{1}{2^n}  =  \\binom{r_1}{x_2}  \\binom{n}{r_1} \\frac{1}{2^{n+r_1}}$ for $r_1 \\in \\{0,...,n\\}$ and $x_2 \\in \\{0,...,r_1\\}$, $0$ otherwise.\n",
    "\n",
    "Marginal pmf of $X_2$:\n",
    "\n",
    "$$ P(X_2 = x_2) = \\sum_{i = x_2}^n P(R_1 = i , X_2 = x_2) = \\sum_{i = x_2}^n \\frac{1}{2^{n + i}} \\binom{n}{i} \\binom{i}{x_2}   $$\n",
    "\n",
    "$P(R_1 = r_1 , X_2 = x_2) = 0$ if $r_1 < x_2$.\n",
    "\n",
    "#### Marginal pmf of $R_2$\n",
    "$R_2 = R_1 - X_2$\n",
    "\n",
    "$$\n",
    "P(R_2 = r_2) = \\sum_{k = r_2}^{n} P(R_1 = k , X_2 = k - r_2) = \\sum_{k = r_2}^{n} \\frac{1}{2^{n+k}} \\binom{n}{k} \\binom{k}{k-r_2} = \\sum_{k = r_2}^{n} \\frac{1}{2^{n+k}} \\binom{n}{k} \\binom{k}{r_2}\n",
    "$$\n",
    "\n",
    "\n",
    "$P(R_2 = r_2, R_1 = r_1, X_2 = x_2) = 0$ if $r_1 < r_2$ or $r_2 \\neq r_1 - x_2$."
   ]
  },
  {
   "cell_type": "markdown",
   "metadata": {},
   "source": [
    "### 1.2. For k ≥ 2, generalize the above computations as far as you can. Meaning: some extensions are feasible, even easy, but others give unwieldy expressions as far as I know. Hence start with k = 3, observe what you get and follow any practicable way you find. Do not worry if none appears.\n"
   ]
  },
  {
   "cell_type": "markdown",
   "metadata": {},
   "source": [
    "For k = 3, we should calculate the marginal pmf of $X_3$ and marginal pmf of $R_3$.\n",
    "\n",
    "#### Marginal pmf of $X_3$\n",
    "Joint pmf of  $(R_2,  X_3)$: \n",
    "\n",
    "$P(R_2 = r_2 , X_3 = x_3) = P(X_3 = x_3 | R_2 = r_2) P(R_2 = r_2) = \\binom{r_2}{x_3} \\frac{1}{2^{r_2}} \\sum_{i = r_2}^{n} \\frac{1}{2^{n+i}} \\binom{n}{i} \\binom{i}{r_2}$ \n",
    "\n",
    "for $r_2 \\in \\{0,...,n\\}$ and $x_3 \\in \\{0,...,r_3\\}$, $0$ otherwise.\n",
    "\n",
    "So, the marginal pmf of $X_3$:\n",
    "\n",
    "$$ P(X_3 = x_3) = \\sum_{i_2 = x_3}^n P(R_2 = i_2 , X_3 = x_3) = \\sum_{i_2 = x_3}^n \\left [ \\binom{i_2}{x_3} \\frac{1}{2^{i_2}} \\sum_{i = i_2}^{n} \\frac{1}{2^{n+i}} \\binom{n}{i} \\binom{i}{i_2} \\right ] $$\n",
    "\n",
    "$P(R_2 = r_2 , X_3 = x_3) = 0$ if $r_2 < x_3$.\n",
    "\n",
    "#### Marginal pmf of $R_3$\n",
    "$R_3 = R_2 - X_3$\n",
    "\n",
    "$$\n",
    "P(R_3 = r_3) = \\sum_{i_2 = r_3}^{n} P(R_2 = i_2 , X_3 = i_2 - r_3) = \\sum_{i_2 = r_3}^{n} \\left [ \\binom{i_2}{r_3} \\frac{1}{2^{i_2}}  \\sum_{i=i_2}{n} \\frac{1}{2^{n+i}} \\binom{n}{i} \\binom{i}{i_2}  \\right ] $$\n",
    "\n",
    "$P(R_3 = r_3, R_2 = r_2, X_3 = x_3) = 0$ if $r_2 < r_3$ or $r_3 \\neq r_2 - x_3$.\n",
    "\n",
    "After this two marginals we can generalize the computations of marginal pmf $X_k$ and marginals pmf of $R_k$:\n",
    "\n",
    "#### Marginal pmf of $X_k$\n",
    "\n",
    "$$ P(X_k = x_k) = \\sum_{i_{k-1} = x_k}^n P(R_{k-1} = i_{k-1} , X_k = x_k) = \\sum_{i_{k-1} = x_k}^n \\left [ \\binom{i_{k-1}}{x_k} \\frac{1}{2^{i_{k-1}}} ...\n",
    "\\sum_{i_2 = x_3}^n \\left [ \\binom{i_2}{x_3} \\frac{1}{2^{i_2}} \\sum_{i = i_2}^{n} \\frac{1}{2^{n+i}} \\binom{n}{i} \\binom{i}{i_2} \\right ] \\right ] $$\n",
    "\n",
    "$P(R_{k-1} = r_{k-1} , X_k = x_k) = 0$ if $r_{k-1} < x_k$.\n",
    "\n",
    "#### Marginal pmf of $R_k$\n",
    "$R_k = R_{k-1} - X_k$\n",
    "\n",
    "$$\n",
    "P(R_k = r_k) = \\sum_{i_{k-1} = r_k}^{n} P(R_{k-1} = i_{k-1} , X_k = i_{k-1} - r_k) = \\sum_{i_{k-1} = r_k}^{n} \\left [ \\binom{i_{k-1}}{r_k} \\frac{1}{2^{i_{k-1}}} ...\n",
    "\\sum_{i_2 = r_3}^{n} \\left [ \\binom{i_2}{r_3} \\frac{1}{2^{i_2}}  \\sum_{i=i_2}{n} \\frac{1}{2^{n+i}} \\binom{n}{i} \\binom{i}{i_2}  \\right ] \\right ] $$\n",
    "\n",
    "$P(R_k = r_k, R_{k-1} = r_{k-1}, X_k = x_k) = 0$ if $r_{k-1} < r_k$ or $r_k \\neq r_{k-1} - x_k$."
   ]
  },
  {
   "cell_type": "markdown",
   "metadata": {},
   "source": [
    "### 1.3. Define the r.v.  Y = “Total number of tosses. ” Obtain the cdf of Y."
   ]
  },
  {
   "cell_type": "markdown",
   "metadata": {},
   "source": [
    "Y is the total number of tosses. Therefore, we want the largest chain of crosses before that the coin take a head. For one coin the Geometric Distribution is the solution because give us the number of tosses, but how we want the largest we should take the maximum for our n coins.\n",
    "\n",
    "We used the CDF of Geometric Distribution: $F(x)=1-(1-p)^{k}\\!$ but knowing that we should found the max:\n",
    "\n",
    "$ F_{Ymax} = P(Y_{max} <= y) $\n",
    "\n",
    "$F_{Ymax}= P(Y_1 <= y, Y_2 <= y, . . . , Y_n <= y)$\n",
    "\n",
    "$F_{Ymax}= P(Y_1 <= y) P(Y_2 <= y)· · · P(Y_n <= y)$\n",
    "\n",
    "$F_{Ymax}= F_Y(y)^n$\n",
    "\n",
    "Therefore, CDF of \n",
    "\n",
    "$$ P(Y_{max} <= y) = (1-(1-p)^{y})^n $$\n",
    "\n",
    "$$ P(Y_{max} <= y) = (1-\\frac{1}{2^{y}})^n $$\n",
    "y trials  where ${\\displaystyle y\\in \\{1,2,3,\\dots \\}\\!} $"
   ]
  },
  {
   "cell_type": "markdown",
   "metadata": {},
   "source": [
    "## Exercise 2. \n",
    "\n",
    "Write code to generate random numbers following a Beta(3, 1) distribution, (a) using the\n",
    "inverse transformation and (b) the accept-reject method. With both (a) and (b) generators write and\n",
    "apply code to demonstrate graphically the goodness-of-fit of the output to the target distribution.\n",
    "Comment about the efficiency of both methods.\n",
    "\n",
    "## Exercise 3. \n",
    "\n",
    "See the Notebook in the Binomial model chapter."
   ]
  },
  {
   "cell_type": "code",
   "execution_count": null,
   "metadata": {
    "collapsed": true
   },
   "outputs": [],
   "source": []
  }
 ],
 "metadata": {
  "kernelspec": {
   "display_name": "R",
   "language": "R",
   "name": "ir"
  },
  "language_info": {
   "codemirror_mode": "r",
   "file_extension": ".r",
   "mimetype": "text/x-r-source",
   "name": "R",
   "pygments_lexer": "r",
   "version": "3.3.2"
  }
 },
 "nbformat": 4,
 "nbformat_minor": 2
}
